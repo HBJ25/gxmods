{
  "cells": [
    {
      "cell_type": "markdown",
      "metadata": {
        "id": "0Zq2C-X15oKk"
      },
      "source": [
        "![imagen](https://github.com/isotomor/python_basic_2_bachillerato/blob/main/img/ejercicios.png?raw=1)"
      ]
    },
    {
      "cell_type": "markdown",
      "metadata": {
        "id": "8_CpRDIx5oKk"
      },
      "source": [
        "# Ejercicios Python Basics II"
      ]
    },
    {
      "cell_type": "markdown",
      "metadata": {
        "id": "biJU6J9u5oKl"
      },
      "source": [
        "## Ejercicio 1\n",
        "* Crea dos variables numericas: un `int` y un `float`\n",
        "* Comprueba sus tipos\n",
        "* Sumalas en otra nueva\n",
        "* ¿De qué tipo es la nueva variable?\n",
        "* Elimina las dos primeras variables creadas"
      ]
    },
    {
      "cell_type": "code",
      "source": [
        "#Este codigo calcula el número de hojas basadas en libros y múmero de hojas por libro#\n",
        "'''\n",
        "En vez de eliminarlo lo omitimos para que no lo lea el código\n",
        "Libros = 10\n",
        "Páginas_escritas = 36.8\n",
        "'''\n",
        "#Para que tenga sentido el código en vez de sumar vamos a multiplicar, si no daría el número de libros mas hojas#\n",
        "Páginas_totales = Libros * Páginas_escritas\n",
        "type(Páginas_totales)"
      ],
      "metadata": {
        "id": "ilqe1stm5pWf",
        "outputId": "29a5bc52-0b77-45cc-b32b-01378edcad86",
        "colab": {
          "base_uri": "https://localhost:8080/"
        }
      },
      "execution_count": 6,
      "outputs": [
        {
          "output_type": "execute_result",
          "data": {
            "text/plain": [
              "float"
            ]
          },
          "metadata": {},
          "execution_count": 6
        }
      ]
    },
    {
      "cell_type": "markdown",
      "metadata": {
        "id": "uOGOWUZS5oKl"
      },
      "source": [
        "## Ejercicio 2\n",
        "Escribe un programa para pasar de grados a radianes. Hay que usar `input`. Recuerda que la conversión se realiza mediante\n",
        "\n",
        "radianes = grados*(pi/180)"
      ]
    },
    {
      "cell_type": "code",
      "source": [],
      "metadata": {
        "id": "Wv4fN0Ok_Ws3"
      },
      "execution_count": null,
      "outputs": []
    },
    {
      "cell_type": "markdown",
      "metadata": {
        "id": "5Igxbefe5oKl"
      },
      "source": [
        "## Ejercicio 3\n",
        "Escribe un programa que calcule el area de un paralelogramo (base x altura). También con `input`"
      ]
    },
    {
      "cell_type": "markdown",
      "metadata": {
        "id": "U_ySCauz5oKl"
      },
      "source": [
        "## Ejercicio 4\n",
        "Tenemos las siguientes variables:\n",
        "\n",
        "```Python\n",
        "A = 4\n",
        "B = \"Text\"\n",
        "C = 4.1\n",
        "```\n",
        "\n",
        "Comprueba:\n",
        "1. Si A y B son equivalentes\n",
        "2. Si A y C NO son equivalentes\n",
        "3. Si A es mayor que C\n",
        "4. Si C es menor o igual que A\n",
        "5. Si B NO es equivalente a C"
      ]
    },
    {
      "cell_type": "markdown",
      "metadata": {
        "id": "T0jYY_E35oKl"
      },
      "source": [
        "## Ejercicio 5\n",
        "Crea un programa donde se recojan dos inputs del usuario, y el output del programa sea si esos inputs son iguales o no"
      ]
    },
    {
      "cell_type": "markdown",
      "metadata": {
        "id": "ydYdzQ_m5oKl"
      },
      "source": [
        "## Ejercicio 6\n",
        "Mismo programa que en 5, pero en esta ocasión tienen que ser tres inputs y dos salidas. Una de las salidas que nos indique si todos son iguales, y la otra si al menos dos inputs sí que lo son"
      ]
    },
    {
      "cell_type": "markdown",
      "metadata": {
        "id": "Q_W9T6Sg5oKl"
      },
      "source": [
        "## Ejercicio 7\n",
        "Crea un programa que recoja dos inputs. Tiene que comprobar si su suma es igual, superior o inferior a 10"
      ]
    },
    {
      "cell_type": "markdown",
      "metadata": {
        "id": "g1h2vWKr5oKm"
      },
      "source": [
        "## Ejercicio 8\n",
        "Razona sin ejecutar código el output que obtendremos de las siguientes sentencias\n",
        "1. True and True and False\n",
        "2. not ((True or False) and (True or False))\n",
        "3. (False or False or False or True) and False\n",
        "4. not False and True and not True"
      ]
    },
    {
      "cell_type": "markdown",
      "metadata": {
        "id": "GRTcuFY85oKm"
      },
      "source": [
        "## Ejercicio 9\n",
        "Para este ejercicio vamos a poner en práctica [las funciones built in](https://docs.python.org/3/library/functions.html).\n",
        "\n",
        "1. Calcula el máximo de la lista: [4, 6, 8, -1]\n",
        "2. Suma todos los elementos de la lista anterior\n",
        "3. Redondea este float a 3 dígitos decimales: 63.451256965\n",
        "4. Valor absoluto de: -74"
      ]
    },
    {
      "cell_type": "code",
      "source": [
        "Lista_1 = [4,6,8,-1]\n",
        "print(max(Lista_1))\n",
        "print(sum(Lista_1))\n",
        "print(round(63.451256965, 3))\n",
        "print(abs(-74))\n"
      ],
      "metadata": {
        "id": "MCIB5Qex_n_8",
        "outputId": "84ee9c24-2be6-4289-8577-fc48a31cc108",
        "colab": {
          "base_uri": "https://localhost:8080/"
        }
      },
      "execution_count": 11,
      "outputs": [
        {
          "output_type": "stream",
          "name": "stdout",
          "text": [
            "8\n",
            "17\n",
            "63.451\n",
            "74\n"
          ]
        }
      ]
    },
    {
      "cell_type": "markdown",
      "metadata": {
        "id": "-Q5M76zn5oKm"
      },
      "source": [
        "## Ejercicio 10\n",
        "Para el siguiente string se pide imprimir por pantalla los siguientes casos\n",
        "\n",
        "    \"A quien madruga, dios le ayuda\"\n",
        "\n",
        "1. Pasarlo todo a mayusculas\n",
        "2. Pasarlo todo a minusculas\n",
        "3. Pasar a mayusculas solo las iniciales de las palabras\n",
        "4. Crea una lista dividiendolo por sus espacios\n",
        "5. Sustituye las comas `,` por puntos y comas `;`\n",
        "6. Elimina las `a` minusculas"
      ]
    },
    {
      "cell_type": "code",
      "source": [
        "A = \"A quien madruga, dios le ayuda\"\n",
        "print(A.upper())\n",
        "print(A.lower())\n",
        "print(A.title())\n",
        "print(A.split())\n",
        "print(A.replace(\",\",\";\"))\n",
        "print(A.replace(\"A\",\"\"))"
      ],
      "metadata": {
        "id": "3iRdSN1TB9Y2",
        "outputId": "40b18e12-2d83-42c0-c674-a6199ed625d3",
        "colab": {
          "base_uri": "https://localhost:8080/"
        }
      },
      "execution_count": 26,
      "outputs": [
        {
          "output_type": "stream",
          "name": "stdout",
          "text": [
            "A QUIEN MADRUGA, DIOS LE AYUDA\n",
            "a quien madruga, dios le ayuda\n",
            "A Quien Madruga, Dios Le Ayuda\n",
            "['A', 'quien', 'madruga,', 'dios', 'le', 'ayuda']\n",
            "A quien madruga; dios le ayuda\n",
            " quien madruga, dios le ayuda\n"
          ]
        }
      ]
    },
    {
      "cell_type": "markdown",
      "metadata": {
        "id": "aAWUG7jj5oKm"
      },
      "source": [
        "## Ejercicio 11\n",
        "1. Crea una lista con 3 elementos numéricos\n",
        "2. Añade un cuarto elemento\n",
        "3. Calcula la suma de todos\n",
        "4. Elimina el segundo elemento de la lista\n",
        "5. Añade otro elemento en la posicion 3 de la lista\n",
        "6. Crea otra lista con 4 elementos y concaténala a la que ya tenías."
      ]
    },
    {
      "cell_type": "code",
      "source": [
        "Números_1 = [25,33,333]\n",
        "Números_2 = [128]\n",
        "Números_1.appent(Números_2)"
      ],
      "metadata": {
        "id": "_PcfjjQHDzhu",
        "outputId": "e0c4c2f4-3005-4c64-847b-93e917ed132a",
        "colab": {
          "base_uri": "https://localhost:8080/",
          "height": 176
        }
      },
      "execution_count": 29,
      "outputs": [
        {
          "output_type": "error",
          "ename": "AttributeError",
          "evalue": "'list' object has no attribute 'appent'",
          "traceback": [
            "\u001b[0;31m---------------------------------------------------------------------------\u001b[0m",
            "\u001b[0;31mAttributeError\u001b[0m                            Traceback (most recent call last)",
            "\u001b[0;32m<ipython-input-29-360ffffe380a>\u001b[0m in \u001b[0;36m<cell line: 3>\u001b[0;34m()\u001b[0m\n\u001b[1;32m      1\u001b[0m \u001b[0mNúmeros_1\u001b[0m \u001b[0;34m=\u001b[0m \u001b[0;34m[\u001b[0m\u001b[0;36m25\u001b[0m\u001b[0;34m,\u001b[0m\u001b[0;36m33\u001b[0m\u001b[0;34m,\u001b[0m\u001b[0;36m333\u001b[0m\u001b[0;34m]\u001b[0m\u001b[0;34m\u001b[0m\u001b[0;34m\u001b[0m\u001b[0m\n\u001b[1;32m      2\u001b[0m \u001b[0mNúmeros_2\u001b[0m \u001b[0;34m=\u001b[0m \u001b[0;34m[\u001b[0m\u001b[0;36m128\u001b[0m\u001b[0;34m]\u001b[0m\u001b[0;34m\u001b[0m\u001b[0;34m\u001b[0m\u001b[0m\n\u001b[0;32m----> 3\u001b[0;31m \u001b[0mNúmeros_1\u001b[0m\u001b[0;34m.\u001b[0m\u001b[0mappent\u001b[0m\u001b[0;34m(\u001b[0m\u001b[0mNúmeros_2\u001b[0m\u001b[0;34m)\u001b[0m\u001b[0;34m\u001b[0m\u001b[0;34m\u001b[0m\u001b[0m\n\u001b[0m",
            "\u001b[0;31mAttributeError\u001b[0m: 'list' object has no attribute 'appent'"
          ]
        }
      ]
    }
  ],
  "metadata": {
    "kernelspec": {
      "display_name": "Python 3.7.9 64-bit",
      "language": "python",
      "name": "python3"
    },
    "language_info": {
      "codemirror_mode": {
        "name": "ipython",
        "version": 3
      },
      "file_extension": ".py",
      "mimetype": "text/x-python",
      "name": "python",
      "nbconvert_exporter": "python",
      "pygments_lexer": "ipython3",
      "version": "3.7.9"
    },
    "nbTranslate": {
      "displayLangs": [
        "*"
      ],
      "hotkey": "alt-t",
      "langInMainMenu": true,
      "sourceLang": "en",
      "targetLang": "fr",
      "useGoogleTranslate": true
    },
    "varInspector": {
      "cols": {
        "lenName": 16,
        "lenType": 16,
        "lenVar": 40
      },
      "kernels_config": {
        "python": {
          "delete_cmd_postfix": "",
          "delete_cmd_prefix": "del ",
          "library": "var_list.py",
          "varRefreshCmd": "print(var_dic_list())"
        },
        "r": {
          "delete_cmd_postfix": ") ",
          "delete_cmd_prefix": "rm(",
          "library": "var_list.r",
          "varRefreshCmd": "cat(var_dic_list()) "
        }
      },
      "types_to_exclude": [
        "module",
        "function",
        "builtin_function_or_method",
        "instance",
        "_Feature"
      ],
      "window_display": false
    },
    "vscode": {
      "interpreter": {
        "hash": "ec2a379ed5c25334a484232182c9d38ef8bd9861e2542d0c517568c4f99a9a7c"
      }
    },
    "colab": {
      "provenance": []
    }
  },
  "nbformat": 4,
  "nbformat_minor": 0
}